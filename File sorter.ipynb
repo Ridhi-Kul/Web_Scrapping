{
 "cells": [
  {
   "cell_type": "code",
   "execution_count": 5,
   "id": "6794b1ab",
   "metadata": {},
   "outputs": [],
   "source": [
    "import os, shutil # shutil allows us to do high level operations on our files in file explorer"
   ]
  },
  {
   "cell_type": "code",
   "execution_count": 6,
   "id": "be6c929b",
   "metadata": {},
   "outputs": [],
   "source": [
    "path = r\"D:/Coding/Python/File sorter project files/\""
   ]
  },
  {
   "cell_type": "code",
   "execution_count": 11,
   "id": "e54e2120",
   "metadata": {},
   "outputs": [],
   "source": [
    "file_name = os.listdir(path)"
   ]
  },
  {
   "cell_type": "code",
   "execution_count": 12,
   "id": "5d92a5d2",
   "metadata": {},
   "outputs": [],
   "source": [
    "# To check if folder exists\n",
    "folder_names = ['csv files', 'image files','text files']\n",
    "\n",
    "for loop in range(0,3):\n",
    "   if not os.path.exists(path + folder_names[loop]):\n",
    "      print (path + folder_names[loop])\n",
    "      os.makedirs(path +  folder_names[loop])"
   ]
  },
  {
   "cell_type": "code",
   "execution_count": 14,
   "id": "26716622",
   "metadata": {},
   "outputs": [],
   "source": [
    "# Check the types of files that exist and place them into the correct folder\n",
    "for file in file_name:\n",
    "    if \".csv\" in file and not os.path.exists(path + \"csv files/\" + file) :\n",
    "        shutil.move(path + file, path + \"csv files/\" + file) # (original path, new path)\n",
    "    elif \".png\" in file and not os.path.exists(path + \"image files/\" + file) :\n",
    "        shutil.move(path + file, path + \"image files/\" + file)\n",
    "    elif \".txt\" in file and not os.path.exists(path + \"text files/\" + file) :\n",
    "        shutil.move(path + file, path + \"text files/\" + file)"
   ]
  }
 ],
 "metadata": {
  "kernelspec": {
   "display_name": "Python 3",
   "language": "python",
   "name": "python3"
  },
  "language_info": {
   "codemirror_mode": {
    "name": "ipython",
    "version": 3
   },
   "file_extension": ".py",
   "mimetype": "text/x-python",
   "name": "python",
   "nbconvert_exporter": "python",
   "pygments_lexer": "ipython3",
   "version": "3.12.8"
  }
 },
 "nbformat": 4,
 "nbformat_minor": 5
}
